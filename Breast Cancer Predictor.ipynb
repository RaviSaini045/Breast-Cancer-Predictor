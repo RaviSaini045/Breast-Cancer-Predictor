{
 "cells": [
  {
   "cell_type": "code",
   "execution_count": null,
   "id": "62791360",
   "metadata": {
    "papermill": {
     "duration": 0.013005,
     "end_time": "2024-01-10T19:41:50.360140",
     "exception": false,
     "start_time": "2024-01-10T19:41:50.347135",
     "status": "completed"
    },
    "tags": []
   },
   "outputs": [],
   "source": []
  },
  {
   "cell_type": "raw",
   "id": "23f602a0",
   "metadata": {
    "id": "ty0-bCX5dz64",
    "papermill": {
     "duration": 0.012103,
     "end_time": "2024-01-10T19:41:50.385093",
     "exception": false,
     "start_time": "2024-01-10T19:41:50.372990",
     "status": "completed"
    },
    "tags": []
   },
   "source": [
    "## **IMPORTING LIBRARIES**"
   ]
  },
  {
   "cell_type": "code",
   "execution_count": 1,
   "id": "82e3c7dd",
   "metadata": {
    "execution": {
     "iopub.execute_input": "2024-01-10T19:41:50.411453Z",
     "iopub.status.busy": "2024-01-10T19:41:50.411086Z",
     "iopub.status.idle": "2024-01-10T19:41:53.819914Z",
     "shell.execute_reply": "2024-01-10T19:41:53.819038Z"
    },
    "id": "oNC8zxTqgSA3",
    "papermill": {
     "duration": 3.424932,
     "end_time": "2024-01-10T19:41:53.822391",
     "exception": false,
     "start_time": "2024-01-10T19:41:50.397459",
     "status": "completed"
    },
    "tags": []
   },
   "outputs": [
    {
     "name": "stderr",
     "output_type": "stream",
     "text": [
      "/opt/conda/lib/python3.10/site-packages/scipy/__init__.py:146: UserWarning: A NumPy version >=1.16.5 and <1.23.0 is required for this version of SciPy (detected version 1.24.3\n",
      "  warnings.warn(f\"A NumPy version >={np_minversion} and <{np_maxversion}\"\n"
     ]
    }
   ],
   "source": [
    "#LINEAR ALGEBRA\n",
    "import numpy as np\n",
    "#DATA PROCESSING, CSV FILE I/Od\n",
    "import pandas as pd\n",
    "#DATA VISUALIZATION LIBRARY\n",
    "import seaborn as sns \n",
    "import matplotlib.pyplot as plt\n",
    "from sklearn.metrics import confusion_matrix\n",
    "color = sns.color_palette()\n",
    "%matplotlib inline"
   ]
  },
  {
   "cell_type": "markdown",
   "id": "0ea1a94b",
   "metadata": {
    "id": "FVfzS0gkinga",
    "papermill": {
     "duration": 0.011991,
     "end_time": "2024-01-10T19:41:53.847783",
     "exception": false,
     "start_time": "2024-01-10T19:41:53.835792",
     "status": "completed"
    },
    "tags": []
   },
   "source": [
    "## **SETTING UP DATASET**"
   ]
  },
  {
   "cell_type": "code",
   "execution_count": 2,
   "id": "8539a2cd",
   "metadata": {
    "execution": {
     "iopub.execute_input": "2024-01-10T19:41:53.875051Z",
     "iopub.status.busy": "2024-01-10T19:41:53.874387Z",
     "iopub.status.idle": "2024-01-10T19:41:53.961567Z",
     "shell.execute_reply": "2024-01-10T19:41:53.960624Z"
    },
    "executionInfo": {
     "elapsed": 5,
     "status": "ok",
     "timestamp": 1681588723254,
     "user": {
      "displayName": "Gourab Mahato",
      "userId": "10976377852796720560"
     },
     "user_tz": -330
    },
    "id": "Lykw7hvTjdK3",
    "outputId": "6837e602-2200-42d4-f0b5-5639daa8d9f5",
    "papermill": {
     "duration": 0.104207,
     "end_time": "2024-01-10T19:41:53.964075",
     "exception": false,
     "start_time": "2024-01-10T19:41:53.859868",
     "status": "completed"
    },
    "tags": []
   },
   "outputs": [
    {
     "data": {
      "text/html": [
       "<div>\n",
       "<style scoped>\n",
       "    .dataframe tbody tr th:only-of-type {\n",
       "        vertical-align: middle;\n",
       "    }\n",
       "\n",
       "    .dataframe tbody tr th {\n",
       "        vertical-align: top;\n",
       "    }\n",
       "\n",
       "    .dataframe thead th {\n",
       "        text-align: right;\n",
       "    }\n",
       "</style>\n",
       "<table border=\"1\" class=\"dataframe\">\n",
       "  <thead>\n",
       "    <tr style=\"text-align: right;\">\n",
       "      <th></th>\n",
       "      <th>id</th>\n",
       "      <th>diagnosis</th>\n",
       "      <th>Radius_mean</th>\n",
       "      <th>Texture_mean</th>\n",
       "      <th>perimeter_mean</th>\n",
       "      <th>area_mean</th>\n",
       "      <th>smoothness_mean</th>\n",
       "      <th>compactness_mean</th>\n",
       "      <th>concavity_mean</th>\n",
       "      <th>concave points_mean</th>\n",
       "      <th>...</th>\n",
       "      <th>radius_worst</th>\n",
       "      <th>texture_worst</th>\n",
       "      <th>perimeter_worst</th>\n",
       "      <th>area_worst</th>\n",
       "      <th>smoothness_worst</th>\n",
       "      <th>compactness_worst</th>\n",
       "      <th>concavity_worst</th>\n",
       "      <th>concave points_worst</th>\n",
       "      <th>symmetry_worst</th>\n",
       "      <th>fractal_dimension_worst</th>\n",
       "    </tr>\n",
       "  </thead>\n",
       "  <tbody>\n",
       "    <tr>\n",
       "      <th>0</th>\n",
       "      <td>842302</td>\n",
       "      <td>M</td>\n",
       "      <td>17.99</td>\n",
       "      <td>10.38</td>\n",
       "      <td>122.80</td>\n",
       "      <td>1001.0</td>\n",
       "      <td>0.11840</td>\n",
       "      <td>0.27760</td>\n",
       "      <td>0.30010</td>\n",
       "      <td>0.14710</td>\n",
       "      <td>...</td>\n",
       "      <td>25.380</td>\n",
       "      <td>17.33</td>\n",
       "      <td>184.60</td>\n",
       "      <td>2019.0</td>\n",
       "      <td>0.16220</td>\n",
       "      <td>0.66560</td>\n",
       "      <td>0.7119</td>\n",
       "      <td>0.2654</td>\n",
       "      <td>0.4601</td>\n",
       "      <td>0.11890</td>\n",
       "    </tr>\n",
       "    <tr>\n",
       "      <th>1</th>\n",
       "      <td>842517</td>\n",
       "      <td>M</td>\n",
       "      <td>20.57</td>\n",
       "      <td>21.77</td>\n",
       "      <td>132.90</td>\n",
       "      <td>1326.0</td>\n",
       "      <td>0.08474</td>\n",
       "      <td>0.07864</td>\n",
       "      <td>0.08690</td>\n",
       "      <td>0.07017</td>\n",
       "      <td>...</td>\n",
       "      <td>24.990</td>\n",
       "      <td>23.41</td>\n",
       "      <td>158.80</td>\n",
       "      <td>1956.0</td>\n",
       "      <td>0.12380</td>\n",
       "      <td>0.18660</td>\n",
       "      <td>0.2416</td>\n",
       "      <td>0.1860</td>\n",
       "      <td>0.2750</td>\n",
       "      <td>0.08902</td>\n",
       "    </tr>\n",
       "    <tr>\n",
       "      <th>2</th>\n",
       "      <td>84300903</td>\n",
       "      <td>M</td>\n",
       "      <td>19.69</td>\n",
       "      <td>21.25</td>\n",
       "      <td>130.00</td>\n",
       "      <td>1203.0</td>\n",
       "      <td>0.10960</td>\n",
       "      <td>0.15990</td>\n",
       "      <td>0.19740</td>\n",
       "      <td>0.12790</td>\n",
       "      <td>...</td>\n",
       "      <td>23.570</td>\n",
       "      <td>25.53</td>\n",
       "      <td>152.50</td>\n",
       "      <td>1709.0</td>\n",
       "      <td>0.14440</td>\n",
       "      <td>0.42450</td>\n",
       "      <td>0.4504</td>\n",
       "      <td>0.2430</td>\n",
       "      <td>0.3613</td>\n",
       "      <td>0.08758</td>\n",
       "    </tr>\n",
       "    <tr>\n",
       "      <th>3</th>\n",
       "      <td>84348301</td>\n",
       "      <td>M</td>\n",
       "      <td>11.42</td>\n",
       "      <td>20.38</td>\n",
       "      <td>77.58</td>\n",
       "      <td>386.1</td>\n",
       "      <td>0.14250</td>\n",
       "      <td>0.28390</td>\n",
       "      <td>0.24140</td>\n",
       "      <td>0.10520</td>\n",
       "      <td>...</td>\n",
       "      <td>14.910</td>\n",
       "      <td>26.50</td>\n",
       "      <td>98.87</td>\n",
       "      <td>567.7</td>\n",
       "      <td>0.20980</td>\n",
       "      <td>0.86630</td>\n",
       "      <td>0.6869</td>\n",
       "      <td>0.2575</td>\n",
       "      <td>0.6638</td>\n",
       "      <td>0.17300</td>\n",
       "    </tr>\n",
       "    <tr>\n",
       "      <th>4</th>\n",
       "      <td>84358402</td>\n",
       "      <td>M</td>\n",
       "      <td>20.29</td>\n",
       "      <td>14.34</td>\n",
       "      <td>135.10</td>\n",
       "      <td>1297.0</td>\n",
       "      <td>0.10030</td>\n",
       "      <td>0.13280</td>\n",
       "      <td>0.19800</td>\n",
       "      <td>0.10430</td>\n",
       "      <td>...</td>\n",
       "      <td>22.540</td>\n",
       "      <td>16.67</td>\n",
       "      <td>152.20</td>\n",
       "      <td>1575.0</td>\n",
       "      <td>0.13740</td>\n",
       "      <td>0.20500</td>\n",
       "      <td>0.4000</td>\n",
       "      <td>0.1625</td>\n",
       "      <td>0.2364</td>\n",
       "      <td>0.07678</td>\n",
       "    </tr>\n",
       "    <tr>\n",
       "      <th>...</th>\n",
       "      <td>...</td>\n",
       "      <td>...</td>\n",
       "      <td>...</td>\n",
       "      <td>...</td>\n",
       "      <td>...</td>\n",
       "      <td>...</td>\n",
       "      <td>...</td>\n",
       "      <td>...</td>\n",
       "      <td>...</td>\n",
       "      <td>...</td>\n",
       "      <td>...</td>\n",
       "      <td>...</td>\n",
       "      <td>...</td>\n",
       "      <td>...</td>\n",
       "      <td>...</td>\n",
       "      <td>...</td>\n",
       "      <td>...</td>\n",
       "      <td>...</td>\n",
       "      <td>...</td>\n",
       "      <td>...</td>\n",
       "      <td>...</td>\n",
       "    </tr>\n",
       "    <tr>\n",
       "      <th>564</th>\n",
       "      <td>926424</td>\n",
       "      <td>M</td>\n",
       "      <td>21.56</td>\n",
       "      <td>22.39</td>\n",
       "      <td>142.00</td>\n",
       "      <td>1479.0</td>\n",
       "      <td>0.11100</td>\n",
       "      <td>0.11590</td>\n",
       "      <td>0.24390</td>\n",
       "      <td>0.13890</td>\n",
       "      <td>...</td>\n",
       "      <td>25.450</td>\n",
       "      <td>26.40</td>\n",
       "      <td>166.10</td>\n",
       "      <td>2027.0</td>\n",
       "      <td>0.14100</td>\n",
       "      <td>0.21130</td>\n",
       "      <td>0.4107</td>\n",
       "      <td>0.2216</td>\n",
       "      <td>0.2060</td>\n",
       "      <td>0.07115</td>\n",
       "    </tr>\n",
       "    <tr>\n",
       "      <th>565</th>\n",
       "      <td>926682</td>\n",
       "      <td>M</td>\n",
       "      <td>20.13</td>\n",
       "      <td>28.25</td>\n",
       "      <td>131.20</td>\n",
       "      <td>1261.0</td>\n",
       "      <td>0.09780</td>\n",
       "      <td>0.10340</td>\n",
       "      <td>0.14400</td>\n",
       "      <td>0.09791</td>\n",
       "      <td>...</td>\n",
       "      <td>23.690</td>\n",
       "      <td>38.25</td>\n",
       "      <td>155.00</td>\n",
       "      <td>1731.0</td>\n",
       "      <td>0.11660</td>\n",
       "      <td>0.19220</td>\n",
       "      <td>0.3215</td>\n",
       "      <td>0.1628</td>\n",
       "      <td>0.2572</td>\n",
       "      <td>0.06637</td>\n",
       "    </tr>\n",
       "    <tr>\n",
       "      <th>566</th>\n",
       "      <td>926954</td>\n",
       "      <td>M</td>\n",
       "      <td>16.60</td>\n",
       "      <td>28.08</td>\n",
       "      <td>108.30</td>\n",
       "      <td>858.1</td>\n",
       "      <td>0.08455</td>\n",
       "      <td>0.10230</td>\n",
       "      <td>0.09251</td>\n",
       "      <td>0.05302</td>\n",
       "      <td>...</td>\n",
       "      <td>18.980</td>\n",
       "      <td>34.12</td>\n",
       "      <td>126.70</td>\n",
       "      <td>1124.0</td>\n",
       "      <td>0.11390</td>\n",
       "      <td>0.30940</td>\n",
       "      <td>0.3403</td>\n",
       "      <td>0.1418</td>\n",
       "      <td>0.2218</td>\n",
       "      <td>0.07820</td>\n",
       "    </tr>\n",
       "    <tr>\n",
       "      <th>567</th>\n",
       "      <td>927241</td>\n",
       "      <td>M</td>\n",
       "      <td>20.60</td>\n",
       "      <td>29.33</td>\n",
       "      <td>140.10</td>\n",
       "      <td>1265.0</td>\n",
       "      <td>0.11780</td>\n",
       "      <td>0.27700</td>\n",
       "      <td>0.35140</td>\n",
       "      <td>0.15200</td>\n",
       "      <td>...</td>\n",
       "      <td>25.740</td>\n",
       "      <td>39.42</td>\n",
       "      <td>184.60</td>\n",
       "      <td>1821.0</td>\n",
       "      <td>0.16500</td>\n",
       "      <td>0.86810</td>\n",
       "      <td>0.9387</td>\n",
       "      <td>0.2650</td>\n",
       "      <td>0.4087</td>\n",
       "      <td>0.12400</td>\n",
       "    </tr>\n",
       "    <tr>\n",
       "      <th>568</th>\n",
       "      <td>92751</td>\n",
       "      <td>B</td>\n",
       "      <td>7.76</td>\n",
       "      <td>24.54</td>\n",
       "      <td>47.92</td>\n",
       "      <td>181.0</td>\n",
       "      <td>0.05263</td>\n",
       "      <td>0.04362</td>\n",
       "      <td>0.00000</td>\n",
       "      <td>0.00000</td>\n",
       "      <td>...</td>\n",
       "      <td>9.456</td>\n",
       "      <td>30.37</td>\n",
       "      <td>59.16</td>\n",
       "      <td>268.6</td>\n",
       "      <td>0.08996</td>\n",
       "      <td>0.06444</td>\n",
       "      <td>0.0000</td>\n",
       "      <td>0.0000</td>\n",
       "      <td>0.2871</td>\n",
       "      <td>0.07039</td>\n",
       "    </tr>\n",
       "  </tbody>\n",
       "</table>\n",
       "<p>569 rows × 32 columns</p>\n",
       "</div>"
      ],
      "text/plain": [
       "           id diagnosis  Radius_mean  Texture_mean  perimeter_mean  area_mean  \\\n",
       "0      842302         M        17.99         10.38          122.80     1001.0   \n",
       "1      842517         M        20.57         21.77          132.90     1326.0   \n",
       "2    84300903         M        19.69         21.25          130.00     1203.0   \n",
       "3    84348301         M        11.42         20.38           77.58      386.1   \n",
       "4    84358402         M        20.29         14.34          135.10     1297.0   \n",
       "..        ...       ...          ...           ...             ...        ...   \n",
       "564    926424         M        21.56         22.39          142.00     1479.0   \n",
       "565    926682         M        20.13         28.25          131.20     1261.0   \n",
       "566    926954         M        16.60         28.08          108.30      858.1   \n",
       "567    927241         M        20.60         29.33          140.10     1265.0   \n",
       "568     92751         B         7.76         24.54           47.92      181.0   \n",
       "\n",
       "     smoothness_mean  compactness_mean  concavity_mean  concave points_mean  \\\n",
       "0            0.11840           0.27760         0.30010              0.14710   \n",
       "1            0.08474           0.07864         0.08690              0.07017   \n",
       "2            0.10960           0.15990         0.19740              0.12790   \n",
       "3            0.14250           0.28390         0.24140              0.10520   \n",
       "4            0.10030           0.13280         0.19800              0.10430   \n",
       "..               ...               ...             ...                  ...   \n",
       "564          0.11100           0.11590         0.24390              0.13890   \n",
       "565          0.09780           0.10340         0.14400              0.09791   \n",
       "566          0.08455           0.10230         0.09251              0.05302   \n",
       "567          0.11780           0.27700         0.35140              0.15200   \n",
       "568          0.05263           0.04362         0.00000              0.00000   \n",
       "\n",
       "     ...  radius_worst  texture_worst  perimeter_worst  area_worst  \\\n",
       "0    ...        25.380          17.33           184.60      2019.0   \n",
       "1    ...        24.990          23.41           158.80      1956.0   \n",
       "2    ...        23.570          25.53           152.50      1709.0   \n",
       "3    ...        14.910          26.50            98.87       567.7   \n",
       "4    ...        22.540          16.67           152.20      1575.0   \n",
       "..   ...           ...            ...              ...         ...   \n",
       "564  ...        25.450          26.40           166.10      2027.0   \n",
       "565  ...        23.690          38.25           155.00      1731.0   \n",
       "566  ...        18.980          34.12           126.70      1124.0   \n",
       "567  ...        25.740          39.42           184.60      1821.0   \n",
       "568  ...         9.456          30.37            59.16       268.6   \n",
       "\n",
       "     smoothness_worst  compactness_worst  concavity_worst  \\\n",
       "0             0.16220            0.66560           0.7119   \n",
       "1             0.12380            0.18660           0.2416   \n",
       "2             0.14440            0.42450           0.4504   \n",
       "3             0.20980            0.86630           0.6869   \n",
       "4             0.13740            0.20500           0.4000   \n",
       "..                ...                ...              ...   \n",
       "564           0.14100            0.21130           0.4107   \n",
       "565           0.11660            0.19220           0.3215   \n",
       "566           0.11390            0.30940           0.3403   \n",
       "567           0.16500            0.86810           0.9387   \n",
       "568           0.08996            0.06444           0.0000   \n",
       "\n",
       "     concave points_worst  symmetry_worst  fractal_dimension_worst  \n",
       "0                  0.2654          0.4601                  0.11890  \n",
       "1                  0.1860          0.2750                  0.08902  \n",
       "2                  0.2430          0.3613                  0.08758  \n",
       "3                  0.2575          0.6638                  0.17300  \n",
       "4                  0.1625          0.2364                  0.07678  \n",
       "..                    ...             ...                      ...  \n",
       "564                0.2216          0.2060                  0.07115  \n",
       "565                0.1628          0.2572                  0.06637  \n",
       "566                0.1418          0.2218                  0.07820  \n",
       "567                0.2650          0.4087                  0.12400  \n",
       "568                0.0000          0.2871                  0.07039  \n",
       "\n",
       "[569 rows x 32 columns]"
      ]
     },
     "execution_count": 2,
     "metadata": {},
     "output_type": "execute_result"
    }
   ],
   "source": [
    "data = pd.read_csv(\"../input/breast-cancer-prediction/data.csv\")\n",
    "data"
   ]
  },
  {
   "cell_type": "markdown",
   "id": "f452c754",
   "metadata": {
    "id": "pais_bJOIusx",
    "papermill": {
     "duration": 0.012344,
     "end_time": "2024-01-10T19:41:53.990536",
     "exception": false,
     "start_time": "2024-01-10T19:41:53.978192",
     "status": "completed"
    },
    "tags": []
   },
   "source": [
    "## **DATA ANALYSIS & PREPROCESSING(Implementing Different Methods for higher accuracy)**"
   ]
  },
  {
   "cell_type": "code",
   "execution_count": 3,
   "id": "aa38e7b5",
   "metadata": {
    "execution": {
     "iopub.execute_input": "2024-01-10T19:41:54.017154Z",
     "iopub.status.busy": "2024-01-10T19:41:54.016817Z",
     "iopub.status.idle": "2024-01-10T19:41:54.025028Z",
     "shell.execute_reply": "2024-01-10T19:41:54.024242Z"
    },
    "executionInfo": {
     "elapsed": 3,
     "status": "ok",
     "timestamp": 1681588725281,
     "user": {
      "displayName": "Gourab Mahato",
      "userId": "10976377852796720560"
     },
     "user_tz": -330
    },
    "id": "carwoRFBk05D",
    "outputId": "d92708d5-3aa4-424a-d747-6f5d44cce9ba",
    "papermill": {
     "duration": 0.023653,
     "end_time": "2024-01-10T19:41:54.026883",
     "exception": false,
     "start_time": "2024-01-10T19:41:54.003230",
     "status": "completed"
    },
    "tags": []
   },
   "outputs": [
    {
     "data": {
      "text/plain": [
       "Index(['id', 'diagnosis', 'Radius_mean', 'Texture_mean', 'perimeter_mean',\n",
       "       'area_mean', 'smoothness_mean', 'compactness_mean', 'concavity_mean',\n",
       "       'concave points_mean', 'symmetry_mean', 'fractal_dimension_mean',\n",
       "       'radius_se', 'texture_se', 'perimeter_se', 'area_se', 'smoothness_se',\n",
       "       'compactness_se', 'concavity_se', 'concave points_se', 'symmetry_se',\n",
       "       'fractal_dimension_se', 'radius_worst', 'texture_worst',\n",
       "       'perimeter_worst', 'area_worst', 'smoothness_worst',\n",
       "       'compactness_worst', 'concavity_worst', 'concave points_worst',\n",
       "       'symmetry_worst', 'fractal_dimension_worst'],\n",
       "      dtype='object')"
      ]
     },
     "execution_count": 3,
     "metadata": {},
     "output_type": "execute_result"
    }
   ],
   "source": [
    "data.columns\n"
   ]
  },
  {
   "cell_type": "code",
   "execution_count": 4,
   "id": "b89a3e39",
   "metadata": {
    "execution": {
     "iopub.execute_input": "2024-01-10T19:41:54.054032Z",
     "iopub.status.busy": "2024-01-10T19:41:54.053719Z",
     "iopub.status.idle": "2024-01-10T19:41:54.059127Z",
     "shell.execute_reply": "2024-01-10T19:41:54.058269Z"
    },
    "executionInfo": {
     "elapsed": 13,
     "status": "ok",
     "timestamp": 1681588743433,
     "user": {
      "displayName": "Gourab Mahato",
      "userId": "10976377852796720560"
     },
     "user_tz": -330
    },
    "id": "SfTErJyum_jt",
    "outputId": "cb5554c8-c77b-4763-b44d-5a0c9e831b6c",
    "papermill": {
     "duration": 0.020891,
     "end_time": "2024-01-10T19:41:54.061073",
     "exception": false,
     "start_time": "2024-01-10T19:41:54.040182",
     "status": "completed"
    },
    "tags": []
   },
   "outputs": [
    {
     "data": {
      "text/plain": [
       "(569, 32)"
      ]
     },
     "execution_count": 4,
     "metadata": {},
     "output_type": "execute_result"
    }
   ],
   "source": [
    "#using tuple \n",
    "data.shape"
   ]
  },
  {
   "cell_type": "code",
   "execution_count": 5,
   "id": "f3979757",
   "metadata": {
    "execution": {
     "iopub.execute_input": "2024-01-10T19:41:54.087481Z",
     "iopub.status.busy": "2024-01-10T19:41:54.087219Z",
     "iopub.status.idle": "2024-01-10T19:41:54.096608Z",
     "shell.execute_reply": "2024-01-10T19:41:54.095767Z"
    },
    "executionInfo": {
     "elapsed": 4,
     "status": "ok",
     "timestamp": 1681588749357,
     "user": {
      "displayName": "Gourab Mahato",
      "userId": "10976377852796720560"
     },
     "user_tz": -330
    },
    "id": "t9Y9fxpEnGFl",
    "outputId": "87a2184c-cd83-4686-ac55-acc015ac8ffb",
    "papermill": {
     "duration": 0.024861,
     "end_time": "2024-01-10T19:41:54.098670",
     "exception": false,
     "start_time": "2024-01-10T19:41:54.073809",
     "status": "completed"
    },
    "tags": []
   },
   "outputs": [
    {
     "data": {
      "text/plain": [
       "id                         0\n",
       "diagnosis                  0\n",
       "Radius_mean                0\n",
       "Texture_mean               0\n",
       "perimeter_mean             0\n",
       "area_mean                  0\n",
       "smoothness_mean            0\n",
       "compactness_mean           0\n",
       "concavity_mean             0\n",
       "concave points_mean        0\n",
       "symmetry_mean              0\n",
       "fractal_dimension_mean     0\n",
       "radius_se                  0\n",
       "texture_se                 0\n",
       "perimeter_se               0\n",
       "area_se                    0\n",
       "smoothness_se              0\n",
       "compactness_se             0\n",
       "concavity_se               0\n",
       "concave points_se          0\n",
       "symmetry_se                0\n",
       "fractal_dimension_se       0\n",
       "radius_worst               0\n",
       "texture_worst              0\n",
       "perimeter_worst            0\n",
       "area_worst                 0\n",
       "smoothness_worst           0\n",
       "compactness_worst          0\n",
       "concavity_worst            0\n",
       "concave points_worst       0\n",
       "symmetry_worst             0\n",
       "fractal_dimension_worst    0\n",
       "dtype: int64"
      ]
     },
     "execution_count": 5,
     "metadata": {},
     "output_type": "execute_result"
    }
   ],
   "source": [
    "#counting the number of missing values (or null values) in each column\n",
    "data.isna().sum()"
   ]
  },
  {
   "cell_type": "code",
   "execution_count": 6,
   "id": "122ac3af",
   "metadata": {
    "execution": {
     "iopub.execute_input": "2024-01-10T19:41:54.127023Z",
     "iopub.status.busy": "2024-01-10T19:41:54.126752Z",
     "iopub.status.idle": "2024-01-10T19:41:54.155324Z",
     "shell.execute_reply": "2024-01-10T19:41:54.154273Z"
    },
    "executionInfo": {
     "elapsed": 488,
     "status": "ok",
     "timestamp": 1681588755481,
     "user": {
      "displayName": "Gourab Mahato",
      "userId": "10976377852796720560"
     },
     "user_tz": -330
    },
    "id": "7SbR0Dti0-OZ",
    "outputId": "b67f14b0-2d32-444c-be2c-7a6f9dd8177b",
    "papermill": {
     "duration": 0.044728,
     "end_time": "2024-01-10T19:41:54.157530",
     "exception": false,
     "start_time": "2024-01-10T19:41:54.112802",
     "status": "completed"
    },
    "tags": []
   },
   "outputs": [
    {
     "name": "stdout",
     "output_type": "stream",
     "text": [
      "<class 'pandas.core.frame.DataFrame'>\n",
      "RangeIndex: 569 entries, 0 to 568\n",
      "Data columns (total 32 columns):\n",
      " #   Column                   Non-Null Count  Dtype  \n",
      "---  ------                   --------------  -----  \n",
      " 0   id                       569 non-null    int64  \n",
      " 1   diagnosis                569 non-null    object \n",
      " 2   Radius_mean              569 non-null    float64\n",
      " 3   Texture_mean             569 non-null    float64\n",
      " 4   perimeter_mean           569 non-null    float64\n",
      " 5   area_mean                569 non-null    float64\n",
      " 6   smoothness_mean          569 non-null    float64\n",
      " 7   compactness_mean         569 non-null    float64\n",
      " 8   concavity_mean           569 non-null    float64\n",
      " 9   concave points_mean      569 non-null    float64\n",
      " 10  symmetry_mean            569 non-null    float64\n",
      " 11  fractal_dimension_mean   569 non-null    float64\n",
      " 12  radius_se                569 non-null    float64\n",
      " 13  texture_se               569 non-null    float64\n",
      " 14  perimeter_se             569 non-null    float64\n",
      " 15  area_se                  569 non-null    float64\n",
      " 16  smoothness_se            569 non-null    float64\n",
      " 17  compactness_se           569 non-null    float64\n",
      " 18  concavity_se             569 non-null    float64\n",
      " 19  concave points_se        569 non-null    float64\n",
      " 20  symmetry_se              569 non-null    float64\n",
      " 21  fractal_dimension_se     569 non-null    float64\n",
      " 22  radius_worst             569 non-null    float64\n",
      " 23  texture_worst            569 non-null    float64\n",
      " 24  perimeter_worst          569 non-null    float64\n",
      " 25  area_worst               569 non-null    float64\n",
      " 26  smoothness_worst         569 non-null    float64\n",
      " 27  compactness_worst        569 non-null    float64\n",
      " 28  concavity_worst          569 non-null    float64\n",
      " 29  concave points_worst     569 non-null    float64\n",
      " 30  symmetry_worst           569 non-null    float64\n",
      " 31  fractal_dimension_worst  569 non-null    float64\n",
      "dtypes: float64(30), int64(1), object(1)\n",
      "memory usage: 142.4+ KB\n"
     ]
    }
   ],
   "source": [
    "data.info()"
   ]
  },
  {
   "cell_type": "code",
   "execution_count": 7,
   "id": "48f8630f",
   "metadata": {
    "execution": {
     "iopub.execute_input": "2024-01-10T19:41:54.186064Z",
     "iopub.status.busy": "2024-01-10T19:41:54.185246Z",
     "iopub.status.idle": "2024-01-10T19:41:54.267562Z",
     "shell.execute_reply": "2024-01-10T19:41:54.266593Z"
    },
    "executionInfo": {
     "elapsed": 506,
     "status": "ok",
     "timestamp": 1681588759864,
     "user": {
      "displayName": "Gourab Mahato",
      "userId": "10976377852796720560"
     },
     "user_tz": -330
    },
    "id": "rksUo032tjFo",
    "outputId": "16c68c9e-2cbd-40ee-f807-0c0ba1f87c58",
    "papermill": {
     "duration": 0.098596,
     "end_time": "2024-01-10T19:41:54.269968",
     "exception": false,
     "start_time": "2024-01-10T19:41:54.171372",
     "status": "completed"
    },
    "tags": []
   },
   "outputs": [
    {
     "data": {
      "text/html": [
       "<div>\n",
       "<style scoped>\n",
       "    .dataframe tbody tr th:only-of-type {\n",
       "        vertical-align: middle;\n",
       "    }\n",
       "\n",
       "    .dataframe tbody tr th {\n",
       "        vertical-align: top;\n",
       "    }\n",
       "\n",
       "    .dataframe thead th {\n",
       "        text-align: right;\n",
       "    }\n",
       "</style>\n",
       "<table border=\"1\" class=\"dataframe\">\n",
       "  <thead>\n",
       "    <tr style=\"text-align: right;\">\n",
       "      <th></th>\n",
       "      <th>id</th>\n",
       "      <th>Radius_mean</th>\n",
       "      <th>Texture_mean</th>\n",
       "      <th>perimeter_mean</th>\n",
       "      <th>area_mean</th>\n",
       "      <th>smoothness_mean</th>\n",
       "      <th>compactness_mean</th>\n",
       "      <th>concavity_mean</th>\n",
       "      <th>concave points_mean</th>\n",
       "      <th>symmetry_mean</th>\n",
       "      <th>...</th>\n",
       "      <th>radius_worst</th>\n",
       "      <th>texture_worst</th>\n",
       "      <th>perimeter_worst</th>\n",
       "      <th>area_worst</th>\n",
       "      <th>smoothness_worst</th>\n",
       "      <th>compactness_worst</th>\n",
       "      <th>concavity_worst</th>\n",
       "      <th>concave points_worst</th>\n",
       "      <th>symmetry_worst</th>\n",
       "      <th>fractal_dimension_worst</th>\n",
       "    </tr>\n",
       "  </thead>\n",
       "  <tbody>\n",
       "    <tr>\n",
       "      <th>count</th>\n",
       "      <td>5.690000e+02</td>\n",
       "      <td>569.000000</td>\n",
       "      <td>569.000000</td>\n",
       "      <td>569.000000</td>\n",
       "      <td>569.000000</td>\n",
       "      <td>569.000000</td>\n",
       "      <td>569.000000</td>\n",
       "      <td>569.000000</td>\n",
       "      <td>569.000000</td>\n",
       "      <td>569.000000</td>\n",
       "      <td>...</td>\n",
       "      <td>569.000000</td>\n",
       "      <td>569.000000</td>\n",
       "      <td>569.000000</td>\n",
       "      <td>569.000000</td>\n",
       "      <td>569.000000</td>\n",
       "      <td>569.000000</td>\n",
       "      <td>569.000000</td>\n",
       "      <td>569.000000</td>\n",
       "      <td>569.000000</td>\n",
       "      <td>569.000000</td>\n",
       "    </tr>\n",
       "    <tr>\n",
       "      <th>mean</th>\n",
       "      <td>3.037183e+07</td>\n",
       "      <td>14.127292</td>\n",
       "      <td>19.296678</td>\n",
       "      <td>91.969033</td>\n",
       "      <td>654.889104</td>\n",
       "      <td>0.096360</td>\n",
       "      <td>0.104341</td>\n",
       "      <td>0.088799</td>\n",
       "      <td>0.048919</td>\n",
       "      <td>0.181162</td>\n",
       "      <td>...</td>\n",
       "      <td>16.269190</td>\n",
       "      <td>25.677223</td>\n",
       "      <td>107.261213</td>\n",
       "      <td>880.583128</td>\n",
       "      <td>0.132369</td>\n",
       "      <td>0.254265</td>\n",
       "      <td>0.272188</td>\n",
       "      <td>0.114606</td>\n",
       "      <td>0.290076</td>\n",
       "      <td>0.083946</td>\n",
       "    </tr>\n",
       "    <tr>\n",
       "      <th>std</th>\n",
       "      <td>1.250206e+08</td>\n",
       "      <td>3.524049</td>\n",
       "      <td>4.301816</td>\n",
       "      <td>24.298981</td>\n",
       "      <td>351.914129</td>\n",
       "      <td>0.014064</td>\n",
       "      <td>0.052813</td>\n",
       "      <td>0.079720</td>\n",
       "      <td>0.038803</td>\n",
       "      <td>0.027414</td>\n",
       "      <td>...</td>\n",
       "      <td>4.833242</td>\n",
       "      <td>6.146258</td>\n",
       "      <td>33.602542</td>\n",
       "      <td>569.356993</td>\n",
       "      <td>0.022832</td>\n",
       "      <td>0.157336</td>\n",
       "      <td>0.208624</td>\n",
       "      <td>0.065732</td>\n",
       "      <td>0.061867</td>\n",
       "      <td>0.018061</td>\n",
       "    </tr>\n",
       "    <tr>\n",
       "      <th>min</th>\n",
       "      <td>8.670000e+03</td>\n",
       "      <td>6.981000</td>\n",
       "      <td>9.710000</td>\n",
       "      <td>43.790000</td>\n",
       "      <td>143.500000</td>\n",
       "      <td>0.052630</td>\n",
       "      <td>0.019380</td>\n",
       "      <td>0.000000</td>\n",
       "      <td>0.000000</td>\n",
       "      <td>0.106000</td>\n",
       "      <td>...</td>\n",
       "      <td>7.930000</td>\n",
       "      <td>12.020000</td>\n",
       "      <td>50.410000</td>\n",
       "      <td>185.200000</td>\n",
       "      <td>0.071170</td>\n",
       "      <td>0.027290</td>\n",
       "      <td>0.000000</td>\n",
       "      <td>0.000000</td>\n",
       "      <td>0.156500</td>\n",
       "      <td>0.055040</td>\n",
       "    </tr>\n",
       "    <tr>\n",
       "      <th>25%</th>\n",
       "      <td>8.692180e+05</td>\n",
       "      <td>11.700000</td>\n",
       "      <td>16.170000</td>\n",
       "      <td>75.170000</td>\n",
       "      <td>420.300000</td>\n",
       "      <td>0.086370</td>\n",
       "      <td>0.064920</td>\n",
       "      <td>0.029560</td>\n",
       "      <td>0.020310</td>\n",
       "      <td>0.161900</td>\n",
       "      <td>...</td>\n",
       "      <td>13.010000</td>\n",
       "      <td>21.080000</td>\n",
       "      <td>84.110000</td>\n",
       "      <td>515.300000</td>\n",
       "      <td>0.116600</td>\n",
       "      <td>0.147200</td>\n",
       "      <td>0.114500</td>\n",
       "      <td>0.064930</td>\n",
       "      <td>0.250400</td>\n",
       "      <td>0.071460</td>\n",
       "    </tr>\n",
       "    <tr>\n",
       "      <th>50%</th>\n",
       "      <td>9.060240e+05</td>\n",
       "      <td>13.370000</td>\n",
       "      <td>18.870000</td>\n",
       "      <td>86.240000</td>\n",
       "      <td>551.100000</td>\n",
       "      <td>0.095870</td>\n",
       "      <td>0.092630</td>\n",
       "      <td>0.061540</td>\n",
       "      <td>0.033500</td>\n",
       "      <td>0.179200</td>\n",
       "      <td>...</td>\n",
       "      <td>14.970000</td>\n",
       "      <td>25.410000</td>\n",
       "      <td>97.660000</td>\n",
       "      <td>686.500000</td>\n",
       "      <td>0.131300</td>\n",
       "      <td>0.211900</td>\n",
       "      <td>0.226700</td>\n",
       "      <td>0.099930</td>\n",
       "      <td>0.282200</td>\n",
       "      <td>0.080040</td>\n",
       "    </tr>\n",
       "    <tr>\n",
       "      <th>75%</th>\n",
       "      <td>8.813129e+06</td>\n",
       "      <td>15.780000</td>\n",
       "      <td>21.800000</td>\n",
       "      <td>104.100000</td>\n",
       "      <td>782.700000</td>\n",
       "      <td>0.105300</td>\n",
       "      <td>0.130400</td>\n",
       "      <td>0.130700</td>\n",
       "      <td>0.074000</td>\n",
       "      <td>0.195700</td>\n",
       "      <td>...</td>\n",
       "      <td>18.790000</td>\n",
       "      <td>29.720000</td>\n",
       "      <td>125.400000</td>\n",
       "      <td>1084.000000</td>\n",
       "      <td>0.146000</td>\n",
       "      <td>0.339100</td>\n",
       "      <td>0.382900</td>\n",
       "      <td>0.161400</td>\n",
       "      <td>0.317900</td>\n",
       "      <td>0.092080</td>\n",
       "    </tr>\n",
       "    <tr>\n",
       "      <th>max</th>\n",
       "      <td>9.113205e+08</td>\n",
       "      <td>28.110000</td>\n",
       "      <td>39.280000</td>\n",
       "      <td>188.500000</td>\n",
       "      <td>2501.000000</td>\n",
       "      <td>0.163400</td>\n",
       "      <td>0.345400</td>\n",
       "      <td>0.426800</td>\n",
       "      <td>0.201200</td>\n",
       "      <td>0.304000</td>\n",
       "      <td>...</td>\n",
       "      <td>36.040000</td>\n",
       "      <td>49.540000</td>\n",
       "      <td>251.200000</td>\n",
       "      <td>4254.000000</td>\n",
       "      <td>0.222600</td>\n",
       "      <td>1.058000</td>\n",
       "      <td>1.252000</td>\n",
       "      <td>0.291000</td>\n",
       "      <td>0.663800</td>\n",
       "      <td>0.207500</td>\n",
       "    </tr>\n",
       "  </tbody>\n",
       "</table>\n",
       "<p>8 rows × 31 columns</p>\n",
       "</div>"
      ],
      "text/plain": [
       "                 id  Radius_mean  Texture_mean  perimeter_mean    area_mean  \\\n",
       "count  5.690000e+02   569.000000    569.000000      569.000000   569.000000   \n",
       "mean   3.037183e+07    14.127292     19.296678       91.969033   654.889104   \n",
       "std    1.250206e+08     3.524049      4.301816       24.298981   351.914129   \n",
       "min    8.670000e+03     6.981000      9.710000       43.790000   143.500000   \n",
       "25%    8.692180e+05    11.700000     16.170000       75.170000   420.300000   \n",
       "50%    9.060240e+05    13.370000     18.870000       86.240000   551.100000   \n",
       "75%    8.813129e+06    15.780000     21.800000      104.100000   782.700000   \n",
       "max    9.113205e+08    28.110000     39.280000      188.500000  2501.000000   \n",
       "\n",
       "       smoothness_mean  compactness_mean  concavity_mean  concave points_mean  \\\n",
       "count       569.000000        569.000000      569.000000           569.000000   \n",
       "mean          0.096360          0.104341        0.088799             0.048919   \n",
       "std           0.014064          0.052813        0.079720             0.038803   \n",
       "min           0.052630          0.019380        0.000000             0.000000   \n",
       "25%           0.086370          0.064920        0.029560             0.020310   \n",
       "50%           0.095870          0.092630        0.061540             0.033500   \n",
       "75%           0.105300          0.130400        0.130700             0.074000   \n",
       "max           0.163400          0.345400        0.426800             0.201200   \n",
       "\n",
       "       symmetry_mean  ...  radius_worst  texture_worst  perimeter_worst  \\\n",
       "count     569.000000  ...    569.000000     569.000000       569.000000   \n",
       "mean        0.181162  ...     16.269190      25.677223       107.261213   \n",
       "std         0.027414  ...      4.833242       6.146258        33.602542   \n",
       "min         0.106000  ...      7.930000      12.020000        50.410000   \n",
       "25%         0.161900  ...     13.010000      21.080000        84.110000   \n",
       "50%         0.179200  ...     14.970000      25.410000        97.660000   \n",
       "75%         0.195700  ...     18.790000      29.720000       125.400000   \n",
       "max         0.304000  ...     36.040000      49.540000       251.200000   \n",
       "\n",
       "        area_worst  smoothness_worst  compactness_worst  concavity_worst  \\\n",
       "count   569.000000        569.000000         569.000000       569.000000   \n",
       "mean    880.583128          0.132369           0.254265         0.272188   \n",
       "std     569.356993          0.022832           0.157336         0.208624   \n",
       "min     185.200000          0.071170           0.027290         0.000000   \n",
       "25%     515.300000          0.116600           0.147200         0.114500   \n",
       "50%     686.500000          0.131300           0.211900         0.226700   \n",
       "75%    1084.000000          0.146000           0.339100         0.382900   \n",
       "max    4254.000000          0.222600           1.058000         1.252000   \n",
       "\n",
       "       concave points_worst  symmetry_worst  fractal_dimension_worst  \n",
       "count            569.000000      569.000000               569.000000  \n",
       "mean               0.114606        0.290076                 0.083946  \n",
       "std                0.065732        0.061867                 0.018061  \n",
       "min                0.000000        0.156500                 0.055040  \n",
       "25%                0.064930        0.250400                 0.071460  \n",
       "50%                0.099930        0.282200                 0.080040  \n",
       "75%                0.161400        0.317900                 0.092080  \n",
       "max                0.291000        0.663800                 0.207500  \n",
       "\n",
       "[8 rows x 31 columns]"
      ]
     },
     "execution_count": 7,
     "metadata": {},
     "output_type": "execute_result"
    }
   ],
   "source": [
    "data.describe()"
   ]
  },
  {
   "cell_type": "code",
   "execution_count": 8,
   "id": "25146bd3",
   "metadata": {
    "execution": {
     "iopub.execute_input": "2024-01-10T19:41:54.345975Z",
     "iopub.status.busy": "2024-01-10T19:41:54.345241Z",
     "iopub.status.idle": "2024-01-10T19:41:54.351443Z",
     "shell.execute_reply": "2024-01-10T19:41:54.350569Z"
    },
    "executionInfo": {
     "elapsed": 451,
     "status": "ok",
     "timestamp": 1681588817196,
     "user": {
      "displayName": "Gourab Mahato",
      "userId": "10976377852796720560"
     },
     "user_tz": -330
    },
    "id": "5JbI904MwQhW",
    "outputId": "5821b014-d9df-4894-d14f-f1080b7b9b08",
    "papermill": {
     "duration": 0.023201,
     "end_time": "2024-01-10T19:41:54.353496",
     "exception": false,
     "start_time": "2024-01-10T19:41:54.330295",
     "status": "completed"
    },
    "tags": []
   },
   "outputs": [
    {
     "data": {
      "text/plain": [
       "{'B', 'M'}"
      ]
     },
     "execution_count": 8,
     "metadata": {},
     "output_type": "execute_result"
    }
   ],
   "source": [
    "#'B' represents Benign Cancer & 'M' represents Malignant Cancer\n",
    "set(data.diagnosis.values.tolist())"
   ]
  },
  {
   "cell_type": "code",
   "execution_count": 9,
   "id": "f380dabb",
   "metadata": {
    "execution": {
     "iopub.execute_input": "2024-01-10T19:41:54.382213Z",
     "iopub.status.busy": "2024-01-10T19:41:54.381895Z",
     "iopub.status.idle": "2024-01-10T19:41:54.388985Z",
     "shell.execute_reply": "2024-01-10T19:41:54.388116Z"
    },
    "executionInfo": {
     "elapsed": 482,
     "status": "ok",
     "timestamp": 1681588855268,
     "user": {
      "displayName": "Gourab Mahato",
      "userId": "10976377852796720560"
     },
     "user_tz": -330
    },
    "id": "GQdPkgGh3PzC",
    "outputId": "2c556771-5292-4951-a52d-1a76031cc407",
    "papermill": {
     "duration": 0.023657,
     "end_time": "2024-01-10T19:41:54.390849",
     "exception": false,
     "start_time": "2024-01-10T19:41:54.367192",
     "status": "completed"
    },
    "tags": []
   },
   "outputs": [
    {
     "data": {
      "text/plain": [
       "diagnosis\n",
       "B    357\n",
       "M    212\n",
       "Name: count, dtype: int64"
      ]
     },
     "execution_count": 9,
     "metadata": {},
     "output_type": "execute_result"
    }
   ],
   "source": [
    "data['diagnosis'].value_counts()"
   ]
  },
  {
   "cell_type": "code",
   "execution_count": 10,
   "id": "6fde735e",
   "metadata": {
    "execution": {
     "iopub.execute_input": "2024-01-10T19:41:54.419361Z",
     "iopub.status.busy": "2024-01-10T19:41:54.419118Z",
     "iopub.status.idle": "2024-01-10T19:41:54.445597Z",
     "shell.execute_reply": "2024-01-10T19:41:54.444759Z"
    },
    "executionInfo": {
     "elapsed": 5,
     "status": "ok",
     "timestamp": 1681588858215,
     "user": {
      "displayName": "Gourab Mahato",
      "userId": "10976377852796720560"
     },
     "user_tz": -330
    },
    "id": "A2QaTFUeiCkE",
    "outputId": "82acad45-32e0-4b39-a60b-0baa55975933",
    "papermill": {
     "duration": 0.043095,
     "end_time": "2024-01-10T19:41:54.447648",
     "exception": false,
     "start_time": "2024-01-10T19:41:54.404553",
     "status": "completed"
    },
    "tags": []
   },
   "outputs": [
    {
     "data": {
      "text/html": [
       "<div>\n",
       "<style scoped>\n",
       "    .dataframe tbody tr th:only-of-type {\n",
       "        vertical-align: middle;\n",
       "    }\n",
       "\n",
       "    .dataframe tbody tr th {\n",
       "        vertical-align: top;\n",
       "    }\n",
       "\n",
       "    .dataframe thead th {\n",
       "        text-align: right;\n",
       "    }\n",
       "</style>\n",
       "<table border=\"1\" class=\"dataframe\">\n",
       "  <thead>\n",
       "    <tr style=\"text-align: right;\">\n",
       "      <th></th>\n",
       "      <th>id</th>\n",
       "      <th>Radius_mean</th>\n",
       "      <th>Texture_mean</th>\n",
       "      <th>perimeter_mean</th>\n",
       "      <th>area_mean</th>\n",
       "      <th>smoothness_mean</th>\n",
       "      <th>compactness_mean</th>\n",
       "      <th>concavity_mean</th>\n",
       "      <th>concave points_mean</th>\n",
       "      <th>symmetry_mean</th>\n",
       "      <th>...</th>\n",
       "      <th>radius_worst</th>\n",
       "      <th>texture_worst</th>\n",
       "      <th>perimeter_worst</th>\n",
       "      <th>area_worst</th>\n",
       "      <th>smoothness_worst</th>\n",
       "      <th>compactness_worst</th>\n",
       "      <th>concavity_worst</th>\n",
       "      <th>concave points_worst</th>\n",
       "      <th>symmetry_worst</th>\n",
       "      <th>fractal_dimension_worst</th>\n",
       "    </tr>\n",
       "    <tr>\n",
       "      <th>diagnosis</th>\n",
       "      <th></th>\n",
       "      <th></th>\n",
       "      <th></th>\n",
       "      <th></th>\n",
       "      <th></th>\n",
       "      <th></th>\n",
       "      <th></th>\n",
       "      <th></th>\n",
       "      <th></th>\n",
       "      <th></th>\n",
       "      <th></th>\n",
       "      <th></th>\n",
       "      <th></th>\n",
       "      <th></th>\n",
       "      <th></th>\n",
       "      <th></th>\n",
       "      <th></th>\n",
       "      <th></th>\n",
       "      <th></th>\n",
       "      <th></th>\n",
       "      <th></th>\n",
       "    </tr>\n",
       "  </thead>\n",
       "  <tbody>\n",
       "    <tr>\n",
       "      <th>B</th>\n",
       "      <td>2.654382e+07</td>\n",
       "      <td>12.146524</td>\n",
       "      <td>17.914762</td>\n",
       "      <td>78.075406</td>\n",
       "      <td>462.790196</td>\n",
       "      <td>0.092478</td>\n",
       "      <td>0.080085</td>\n",
       "      <td>0.046058</td>\n",
       "      <td>0.025717</td>\n",
       "      <td>0.174186</td>\n",
       "      <td>...</td>\n",
       "      <td>13.379801</td>\n",
       "      <td>23.515070</td>\n",
       "      <td>87.005938</td>\n",
       "      <td>558.899440</td>\n",
       "      <td>0.124959</td>\n",
       "      <td>0.182673</td>\n",
       "      <td>0.166238</td>\n",
       "      <td>0.074444</td>\n",
       "      <td>0.270246</td>\n",
       "      <td>0.079442</td>\n",
       "    </tr>\n",
       "    <tr>\n",
       "      <th>M</th>\n",
       "      <td>3.681805e+07</td>\n",
       "      <td>17.462830</td>\n",
       "      <td>21.623774</td>\n",
       "      <td>115.365377</td>\n",
       "      <td>978.376415</td>\n",
       "      <td>0.102898</td>\n",
       "      <td>0.145188</td>\n",
       "      <td>0.160775</td>\n",
       "      <td>0.087990</td>\n",
       "      <td>0.192909</td>\n",
       "      <td>...</td>\n",
       "      <td>21.134811</td>\n",
       "      <td>29.318208</td>\n",
       "      <td>141.370330</td>\n",
       "      <td>1422.286321</td>\n",
       "      <td>0.144845</td>\n",
       "      <td>0.374824</td>\n",
       "      <td>0.450606</td>\n",
       "      <td>0.182237</td>\n",
       "      <td>0.323468</td>\n",
       "      <td>0.091530</td>\n",
       "    </tr>\n",
       "  </tbody>\n",
       "</table>\n",
       "<p>2 rows × 31 columns</p>\n",
       "</div>"
      ],
      "text/plain": [
       "                     id  Radius_mean  Texture_mean  perimeter_mean  \\\n",
       "diagnosis                                                            \n",
       "B          2.654382e+07    12.146524     17.914762       78.075406   \n",
       "M          3.681805e+07    17.462830     21.623774      115.365377   \n",
       "\n",
       "            area_mean  smoothness_mean  compactness_mean  concavity_mean  \\\n",
       "diagnosis                                                                  \n",
       "B          462.790196         0.092478          0.080085        0.046058   \n",
       "M          978.376415         0.102898          0.145188        0.160775   \n",
       "\n",
       "           concave points_mean  symmetry_mean  ...  radius_worst  \\\n",
       "diagnosis                                      ...                 \n",
       "B                     0.025717       0.174186  ...     13.379801   \n",
       "M                     0.087990       0.192909  ...     21.134811   \n",
       "\n",
       "           texture_worst  perimeter_worst   area_worst  smoothness_worst  \\\n",
       "diagnosis                                                                  \n",
       "B              23.515070        87.005938   558.899440          0.124959   \n",
       "M              29.318208       141.370330  1422.286321          0.144845   \n",
       "\n",
       "           compactness_worst  concavity_worst  concave points_worst  \\\n",
       "diagnosis                                                             \n",
       "B                   0.182673         0.166238              0.074444   \n",
       "M                   0.374824         0.450606              0.182237   \n",
       "\n",
       "           symmetry_worst  fractal_dimension_worst  \n",
       "diagnosis                                           \n",
       "B                0.270246                 0.079442  \n",
       "M                0.323468                 0.091530  \n",
       "\n",
       "[2 rows x 31 columns]"
      ]
     },
     "execution_count": 10,
     "metadata": {},
     "output_type": "execute_result"
    }
   ],
   "source": [
    "#Mean values of various features computed for Breast cells(to fill these mean values instead of null ones, if present) \n",
    "data.groupby('diagnosis').mean()"
   ]
  },
  {
   "cell_type": "markdown",
   "id": "3f4137f9",
   "metadata": {
    "id": "m55x3hf3kvyJ",
    "papermill": {
     "duration": 0.013883,
     "end_time": "2024-01-10T19:41:54.475787",
     "exception": false,
     "start_time": "2024-01-10T19:41:54.461904",
     "status": "completed"
    },
    "tags": []
   },
   "source": [
    "## **GRAPHICAL REPRESENTATIONS**"
   ]
  },
  {
   "cell_type": "code",
   "execution_count": 11,
   "id": "3d641724",
   "metadata": {
    "execution": {
     "iopub.execute_input": "2024-01-10T19:41:54.505183Z",
     "iopub.status.busy": "2024-01-10T19:41:54.504884Z",
     "iopub.status.idle": "2024-01-10T19:41:54.513077Z",
     "shell.execute_reply": "2024-01-10T19:41:54.512267Z"
    },
    "executionInfo": {
     "elapsed": 3,
     "status": "ok",
     "timestamp": 1681588860635,
     "user": {
      "displayName": "Gourab Mahato",
      "userId": "10976377852796720560"
     },
     "user_tz": -330
    },
    "id": "LwVyZeaGk39X",
    "outputId": "250c9e0c-8fb0-4ea5-e324-759dfa55f653",
    "papermill": {
     "duration": 0.025219,
     "end_time": "2024-01-10T19:41:54.514972",
     "exception": false,
     "start_time": "2024-01-10T19:41:54.489753",
     "status": "completed"
    },
    "tags": []
   },
   "outputs": [
    {
     "data": {
      "text/plain": [
       "0    M\n",
       "1    M\n",
       "2    M\n",
       "3    M\n",
       "4    M\n",
       "Name: diagnosis, dtype: object"
      ]
     },
     "execution_count": 11,
     "metadata": {},
     "output_type": "execute_result"
    }
   ],
   "source": [
    "#Y INCLUDES OUR LABELS AND X INCLUDES OUR FEATURES\n",
    "Y = data.diagnosis                         \n",
    "list = ['id','diagnosis']\n",
    "X= data.drop(list,axis = 1 )\n",
    "X.head()\n",
    "Y.head()"
   ]
  },
  {
   "cell_type": "code",
   "execution_count": 12,
   "id": "fdb7c142",
   "metadata": {
    "execution": {
     "iopub.execute_input": "2024-01-10T19:41:54.544469Z",
     "iopub.status.busy": "2024-01-10T19:41:54.544196Z",
     "iopub.status.idle": "2024-01-10T19:41:54.559139Z",
     "shell.execute_reply": "2024-01-10T19:41:54.558341Z"
    },
    "executionInfo": {
     "elapsed": 782,
     "status": "ok",
     "timestamp": 1681588863714,
     "user": {
      "displayName": "Gourab Mahato",
      "userId": "10976377852796720560"
     },
     "user_tz": -330
    },
    "id": "gqwa4WRoAh5t",
    "outputId": "713135bf-df95-4579-d4fa-f31aa0a45787",
    "papermill": {
     "duration": 0.031901,
     "end_time": "2024-01-10T19:41:54.561045",
     "exception": false,
     "start_time": "2024-01-10T19:41:54.529144",
     "status": "completed"
    },
    "tags": []
   },
   "outputs": [
    {
     "data": {
      "text/plain": [
       "B      M    \n",
       "True   False    357\n",
       "False  True     212\n",
       "Name: count, dtype: int64"
      ]
     },
     "execution_count": 12,
     "metadata": {},
     "output_type": "execute_result"
    }
   ],
   "source": [
    "Y_encoded = pd.get_dummies(Y, prefix='', prefix_sep='') #converting into dummy variables\n",
    "#Seaborn expects/reads numerical values to determine the position and width of the bars in the bar graph\n",
    "#Therefore, replacing 'B' and 'M' with 0 and 1, respectively for graphical representation\n",
    "Y_encoded= Y_encoded.replace({'B': 0, 'M': 1})\n",
    "Y_encoded.value_counts()"
   ]
  },
  {
   "cell_type": "code",
   "execution_count": 13,
   "id": "eed64b88",
   "metadata": {
    "execution": {
     "iopub.execute_input": "2024-01-10T19:41:54.591933Z",
     "iopub.status.busy": "2024-01-10T19:41:54.591400Z",
     "iopub.status.idle": "2024-01-10T19:41:54.963344Z",
     "shell.execute_reply": "2024-01-10T19:41:54.962363Z"
    },
    "executionInfo": {
     "elapsed": 863,
     "status": "ok",
     "timestamp": 1681588866450,
     "user": {
      "displayName": "Gourab Mahato",
      "userId": "10976377852796720560"
     },
     "user_tz": -330
    },
    "id": "tFqCS0F8ZKgS",
    "outputId": "8cfafbac-b9e1-40b1-9e2b-da76655c649e",
    "papermill": {
     "duration": 0.389535,
     "end_time": "2024-01-10T19:41:54.965562",
     "exception": false,
     "start_time": "2024-01-10T19:41:54.576027",
     "status": "completed"
    },
    "tags": []
   },
   "outputs": [
    {
     "name": "stdout",
     "output_type": "stream",
     "text": [
      "Number of Benign Cancer:  357\n",
      "Number of Malignant Cancer:  212\n"
     ]
    },
    {
     "data": {
      "image/png": "[encoded data removed]",
      "text/plain": [
       "<Figure size 640x480 with 1 Axes>"
      ]
     },
     "metadata": {},
     "output_type": "display_data"
    }
   ],
   "source": [
    "\n",
    "# plotting benign and malignant cases BUT, showing the critical cases first(Malignant first and then benign) i.e., shown in reverse order\n",
    "sns.set(style=\"whitegrid\")\n",
    "ax = sns.countplot(x=Y_encoded.iloc[:,1], palette=\"Set1\", order=Y_encoded.iloc[:,1].value_counts().index[::-1])  #The [::-1] syntax is used to reverse the order of the categories\n",
    "ax.set_xticklabels(['Malignant', 'Benign'])\n",
    "ax.set_xlabel('') #to remove the label of the x-axis from the plot.\n",
    "ax.set_ylabel('Count')\n",
    "ax.set_title('Distribution of Diagnosis')\n",
    "B,M = Y_encoded.value_counts()\n",
    "print('Number of Benign Cancer: ',B)\n",
    "print('Number of Malignant Cancer: ',M)\n"
   ]
  },
  {
   "cell_type": "markdown",
   "id": "3c4ccc43",
   "metadata": {
    "id": "TM740SqhNesx",
    "papermill": {
     "duration": 0.016131,
     "end_time": "2024-01-10T19:41:54.998010",
     "exception": false,
     "start_time": "2024-01-10T19:41:54.981879",
     "status": "completed"
    },
    "tags": []
   },
   "source": [
    "## **TRAIN-TEST-SPLIT**"
   ]
  },
  {
   "cell_type": "code",
   "execution_count": 14,
   "id": "9912c8a9",
   "metadata": {
    "execution": {
     "iopub.execute_input": "2024-01-10T19:41:55.032496Z",
     "iopub.status.busy": "2024-01-10T19:41:55.031794Z",
     "iopub.status.idle": "2024-01-10T19:41:55.060148Z",
     "shell.execute_reply": "2024-01-10T19:41:55.059410Z"
    },
    "id": "I9cZITohSXk-",
    "papermill": {
     "duration": 0.048196,
     "end_time": "2024-01-10T19:41:55.062421",
     "exception": false,
     "start_time": "2024-01-10T19:41:55.014225",
     "status": "completed"
    },
    "tags": []
   },
   "outputs": [],
   "source": [
    "# Splitting the dataset into the Training set and Test set\n",
    "from sklearn.model_selection import train_test_split\n",
    "from sklearn.metrics import mean_absolute_error, mean_squared_error, r2_score, accuracy_score\n",
    "X_train, X_test, Y_train, Y_test=train_test_split(X, Y, test_size=0.2, random_state=2)"
   ]
  },
  {
   "cell_type": "code",
   "execution_count": 15,
   "id": "183ed9fa",
   "metadata": {
    "execution": {
     "iopub.execute_input": "2024-01-10T19:41:55.094250Z",
     "iopub.status.busy": "2024-01-10T19:41:55.093955Z",
     "iopub.status.idle": "2024-01-10T19:41:55.098797Z",
     "shell.execute_reply": "2024-01-10T19:41:55.097795Z"
    },
    "executionInfo": {
     "elapsed": 491,
     "status": "ok",
     "timestamp": 1681587664448,
     "user": {
      "displayName": "Gourab Mahato",
      "userId": "10976377852796720560"
     },
     "user_tz": -330
    },
    "id": "6NG_VD2oXHeb",
    "outputId": "78774fc2-a31b-497f-cd36-9991e3369902",
    "papermill": {
     "duration": 0.022938,
     "end_time": "2024-01-10T19:41:55.100892",
     "exception": false,
     "start_time": "2024-01-10T19:41:55.077954",
     "status": "completed"
    },
    "tags": []
   },
   "outputs": [
    {
     "name": "stdout",
     "output_type": "stream",
     "text": [
      "(569, 30) (455, 30) (114, 30)\n"
     ]
    }
   ],
   "source": [
    "print(X.shape, X_train.shape, X_test.shape)"
   ]
  },
  {
   "cell_type": "code",
   "execution_count": 16,
   "id": "85c39fb3",
   "metadata": {
    "execution": {
     "iopub.execute_input": "2024-01-10T19:41:55.133970Z",
     "iopub.status.busy": "2024-01-10T19:41:55.133645Z",
     "iopub.status.idle": "2024-01-10T19:41:55.145506Z",
     "shell.execute_reply": "2024-01-10T19:41:55.144623Z"
    },
    "id": "AnPADHvbcf8Y",
    "papermill": {
     "duration": 0.030874,
     "end_time": "2024-01-10T19:41:55.147694",
     "exception": false,
     "start_time": "2024-01-10T19:41:55.116820",
     "status": "completed"
    },
    "tags": []
   },
   "outputs": [],
   "source": [
    "from sklearn.preprocessing import StandardScaler\n",
    "\n",
    "sc = StandardScaler()\n",
    "X_train = sc.fit_transform(X_train)\n",
    "X_test = sc.transform(X_test)"
   ]
  },
  {
   "cell_type": "code",
   "execution_count": 17,
   "id": "6f080b33",
   "metadata": {
    "execution": {
     "iopub.execute_input": "2024-01-10T19:41:55.181136Z",
     "iopub.status.busy": "2024-01-10T19:41:55.180816Z",
     "iopub.status.idle": "2024-01-10T19:41:55.187607Z",
     "shell.execute_reply": "2024-01-10T19:41:55.186543Z"
    },
    "id": "3z-E3QUfgSHI",
    "papermill": {
     "duration": 0.02646,
     "end_time": "2024-01-10T19:41:55.190157",
     "exception": false,
     "start_time": "2024-01-10T19:41:55.163697",
     "status": "completed"
    },
    "tags": []
   },
   "outputs": [],
   "source": [
    "Y_train_num = Y_train.copy()\n",
    "Y_test_num = Y_test.copy()\n",
    "# use the map() function to replace 'B' with 0 and 'M' with 1\n",
    "Y_train_num = Y_train_num.map({'B': 0, 'M': 1})\n",
    "Y_test_num = Y_test_num.map({'B': 0, 'M': 1})"
   ]
  },
  {
   "cell_type": "markdown",
   "id": "fd71eba6",
   "metadata": {
    "id": "g5Q_c-cwY0OQ",
    "papermill": {
     "duration": 0.015609,
     "end_time": "2024-01-10T19:41:55.221881",
     "exception": false,
     "start_time": "2024-01-10T19:41:55.206272",
     "status": "completed"
    },
    "tags": []
   },
   "source": [
    "## **MODEL TRAINING**"
   ]
  },
  {
   "cell_type": "code",
   "execution_count": 18,
   "id": "80f6f14c",
   "metadata": {
    "execution": {
     "iopub.execute_input": "2024-01-10T19:41:55.255262Z",
     "iopub.status.busy": "2024-01-10T19:41:55.254924Z",
     "iopub.status.idle": "2024-01-10T19:41:55.408563Z",
     "shell.execute_reply": "2024-01-10T19:41:55.407582Z"
    },
    "id": "JvR1pxYvattW",
    "papermill": {
     "duration": 0.173307,
     "end_time": "2024-01-10T19:41:55.410898",
     "exception": false,
     "start_time": "2024-01-10T19:41:55.237591",
     "status": "completed"
    },
    "tags": []
   },
   "outputs": [],
   "source": [
    "#importing all the models\n",
    "from sklearn.linear_model import LogisticRegression\n",
    "from sklearn.metrics import classification_report"
   ]
  },
  {
   "cell_type": "markdown",
   "id": "0aa16396",
   "metadata": {
    "id": "dkuzeEAegpFB",
    "papermill": {
     "duration": 0.016837,
     "end_time": "2024-01-10T19:41:55.444195",
     "exception": false,
     "start_time": "2024-01-10T19:41:55.427358",
     "status": "completed"
    },
    "tags": []
   },
   "source": [
    "## **Model Evaluation for Accuracy Score**"
   ]
  },
  {
   "cell_type": "markdown",
   "id": "f1b9cb98",
   "metadata": {
    "papermill": {
     "duration": 0.014858,
     "end_time": "2024-01-10T19:41:55.474961",
     "exception": false,
     "start_time": "2024-01-10T19:41:55.460103",
     "status": "completed"
    },
    "tags": []
   },
   "source": []
  },
  {
   "cell_type": "markdown",
   "id": "aad36470",
   "metadata": {
    "id": "ZhuRlIpPOwhC",
    "papermill": {
     "duration": 0.014874,
     "end_time": "2024-01-10T19:41:55.504880",
     "exception": false,
     "start_time": "2024-01-10T19:41:55.490006",
     "status": "completed"
    },
    "tags": []
   },
   "source": [
    "## **LOGISTIC REGRESSION**\n"
   ]
  },
  {
   "cell_type": "code",
   "execution_count": 19,
   "id": "a7fdf04d",
   "metadata": {
    "execution": {
     "iopub.execute_input": "2024-01-10T19:41:55.536981Z",
     "iopub.status.busy": "2024-01-10T19:41:55.536626Z",
     "iopub.status.idle": "2024-01-10T19:41:55.570072Z",
     "shell.execute_reply": "2024-01-10T19:41:55.569002Z"
    },
    "executionInfo": {
     "elapsed": 723,
     "status": "ok",
     "timestamp": 1681588937619,
     "user": {
      "displayName": "Gourab Mahato",
      "userId": "10976377852796720560"
     },
     "user_tz": -330
    },
    "id": "d46BBofYlHJp",
    "outputId": "9bc8f8e8-ecca-4dc1-c964-ad168e6d04e9",
    "papermill": {
     "duration": 0.05335,
     "end_time": "2024-01-10T19:41:55.573600",
     "exception": false,
     "start_time": "2024-01-10T19:41:55.520250",
     "status": "completed"
    },
    "tags": []
   },
   "outputs": [
    {
     "name": "stdout",
     "output_type": "stream",
     "text": [
      "Accuracy on the training data: 0.9846153846153847\n"
     ]
    }
   ],
   "source": [
    "from sklearn.preprocessing import StandardScaler\n",
    "#Feature scaling is a preprocessing step used to standardize the range of feature values in a dataset. \n",
    "#In other words, feature scaling transforms the data so that the features have similar ranges, which can help improve the performance of many machine learning algorithms.\n",
    "#Feature scaling is a technique used to make sure that all the input features in a dataset have similar ranges of values, so that they don't affect the machine learning model in different ways.\n",
    "sc = StandardScaler()\n",
    "X_train = sc.fit_transform(X_train)\n",
    "X_test = sc.transform(X_test)\n",
    "\n",
    "# using the map() function to replace 'B' with 0 and 'M' with 1\n",
    "Y_train_num = Y_train.map({'B': 0, 'M': 1})\n",
    "\n",
    "#training the Logistic Regression model using Training Data\n",
    "#binary classification using logistic regression\n",
    "lr = LogisticRegression(penalty='l2', C=0.1)\n",
    "lr.fit(X_train, Y_train_num)\n",
    "\n",
    "X_train_prediction = lr.predict(X_train)   #predicts the binary class labels for the input training data\n",
    "X_train_prediction = (X_train_prediction > 0.5).astype(int)\n",
    "\n",
    "training_data_accuracy = accuracy_score(Y_train_num, X_train_prediction)\n",
    "print(\"Accuracy on the training data:\",training_data_accuracy)"
   ]
  },
  {
   "cell_type": "code",
   "execution_count": 20,
   "id": "937ad2cc",
   "metadata": {
    "execution": {
     "iopub.execute_input": "2024-01-10T19:41:55.650407Z",
     "iopub.status.busy": "2024-01-10T19:41:55.649827Z",
     "iopub.status.idle": "2024-01-10T19:41:55.659460Z",
     "shell.execute_reply": "2024-01-10T19:41:55.658460Z"
    },
    "executionInfo": {
     "elapsed": 3,
     "status": "ok",
     "timestamp": 1681588939199,
     "user": {
      "displayName": "Gourab Mahato",
      "userId": "10976377852796720560"
     },
     "user_tz": -330
    },
    "id": "MZ5xHJ1QJCTN",
    "outputId": "b94a5139-283b-40e2-85ac-144a7ad325ef",
    "papermill": {
     "duration": 0.051887,
     "end_time": "2024-01-10T19:41:55.662850",
     "exception": false,
     "start_time": "2024-01-10T19:41:55.610963",
     "status": "completed"
    },
    "tags": []
   },
   "outputs": [
    {
     "name": "stdout",
     "output_type": "stream",
     "text": [
      "Accuracy on the test data: 0.9736842105263158\n"
     ]
    }
   ],
   "source": [
    "#accuracy on test data\n",
    "X_test_prediction= lr.predict(X_test)\n",
    "test_data_accuracy= accuracy_score(Y_test_num, X_test_prediction)\n",
    "print(\"Accuracy on the test data:\",test_data_accuracy)"
   ]
  },
  {
   "cell_type": "markdown",
   "id": "79301afe",
   "metadata": {
    "id": "IiBrjb91hRmZ",
    "papermill": {
     "duration": 0.017063,
     "end_time": "2024-01-10T19:41:55.716416",
     "exception": false,
     "start_time": "2024-01-10T19:41:55.699353",
     "status": "completed"
    },
    "tags": []
   },
   "source": [
    "## **SVM (Support Vector Machine)** "
   ]
  },
  {
   "cell_type": "code",
   "execution_count": 21,
   "id": "a52e5084",
   "metadata": {
    "execution": {
     "iopub.execute_input": "2024-01-10T19:41:55.749242Z",
     "iopub.status.busy": "2024-01-10T19:41:55.748304Z",
     "iopub.status.idle": "2024-01-10T19:41:55.752926Z",
     "shell.execute_reply": "2024-01-10T19:41:55.752056Z"
    },
    "id": "ZDEgzaCHiYNr",
    "papermill": {
     "duration": 0.023073,
     "end_time": "2024-01-10T19:41:55.754933",
     "exception": false,
     "start_time": "2024-01-10T19:41:55.731860",
     "status": "completed"
    },
    "tags": []
   },
   "outputs": [],
   "source": [
    "#SVM(Support Vector Machine) is a popular algorithm used in machine learning for classification and regression analysis. \n",
    "#It is a supervised learning model that can be used for both binary and multiclass classification.\n",
    "from sklearn.svm import SVC"
   ]
  },
  {
   "cell_type": "code",
   "execution_count": 22,
   "id": "90d44922",
   "metadata": {
    "execution": {
     "iopub.execute_input": "2024-01-10T19:41:55.788710Z",
     "iopub.status.busy": "2024-01-10T19:41:55.787792Z",
     "iopub.status.idle": "2024-01-10T19:41:55.799591Z",
     "shell.execute_reply": "2024-01-10T19:41:55.798844Z"
    },
    "id": "7oDH8307ickd",
    "papermill": {
     "duration": 0.031787,
     "end_time": "2024-01-10T19:41:55.802463",
     "exception": false,
     "start_time": "2024-01-10T19:41:55.770676",
     "status": "completed"
    },
    "tags": []
   },
   "outputs": [],
   "source": [
    "svm_model = SVC()\n",
    "svm_model = svm_model.fit(X_train, Y_train_num)"
   ]
  },
  {
   "cell_type": "code",
   "execution_count": 23,
   "id": "f11ef17b",
   "metadata": {
    "execution": {
     "iopub.execute_input": "2024-01-10T19:41:55.838629Z",
     "iopub.status.busy": "2024-01-10T19:41:55.838287Z",
     "iopub.status.idle": "2024-01-10T19:41:55.854082Z",
     "shell.execute_reply": "2024-01-10T19:41:55.853034Z"
    },
    "executionInfo": {
     "elapsed": 9,
     "status": "ok",
     "timestamp": 1681590203599,
     "user": {
      "displayName": "Gourab Mahato",
      "userId": "10976377852796720560"
     },
     "user_tz": -330
    },
    "id": "mPRhO93dijyj",
    "outputId": "7e4e6b1a-d1a6-434b-abf9-f2bbfb59c211",
    "papermill": {
     "duration": 0.035188,
     "end_time": "2024-01-10T19:41:55.856380",
     "exception": false,
     "start_time": "2024-01-10T19:41:55.821192",
     "status": "completed"
    },
    "tags": []
   },
   "outputs": [
    {
     "name": "stdout",
     "output_type": "stream",
     "text": [
      "              precision    recall  f1-score   support\n",
      "\n",
      "           0       0.99      0.96      0.97        69\n",
      "           1       0.94      0.98      0.96        45\n",
      "\n",
      "    accuracy                           0.96       114\n",
      "   macro avg       0.96      0.97      0.96       114\n",
      "weighted avg       0.97      0.96      0.97       114\n",
      "\n"
     ]
    }
   ],
   "source": [
    "#Precision is the proportion of true positives (correctly predicted instances of class 1) out of all predicted instances of class 1. The precision for class 0 is 0.99 and for class 1 is 0.94. This means that 99% of the instances predicted as class 0 were actually class 0, while 94% of the instances predicted as class 1 were actually class 1.\n",
    "#Recall is the proportion of true positives out of all actual instances of a class. The recall for class 0 is 0.96 and for class 1 is 0.98. This means that 96% of the actual instances of class 0 were correctly identified by the model, and 98% of the actual instances of class 1 were correctly identified by the model.\n",
    "#F1-score is the harmonic mean of precision and recall, which balances the two metrics. The F1-score for class 0 is 0.97 and for class 1 is 0.96.\n",
    "#Support is the number of actual instances of each class in the dataset. There were 69 instances of class 0 and 45 instances of class 1.\n",
    "#Accuracy is the proportion of correct predictions out of all predictions made by the model. The overall accuracy of the model is 0.96.\n",
    "Y_pred = svm_model.predict(X_test)\n",
    "print(classification_report(Y_test_num, Y_pred))"
   ]
  },
  {
   "cell_type": "markdown",
   "id": "4e47dd9a",
   "metadata": {
    "id": "EIDFSzMlRB-N",
    "papermill": {
     "duration": 0.01743,
     "end_time": "2024-01-10T19:41:55.892116",
     "exception": false,
     "start_time": "2024-01-10T19:41:55.874686",
     "status": "completed"
    },
    "tags": []
   },
   "source": [
    "## **kNN (K-Nearest Neighbors classification model)**"
   ]
  },
  {
   "cell_type": "code",
   "execution_count": 24,
   "id": "f70b62b6",
   "metadata": {
    "execution": {
     "iopub.execute_input": "2024-01-10T19:41:55.925336Z",
     "iopub.status.busy": "2024-01-10T19:41:55.924993Z",
     "iopub.status.idle": "2024-01-10T19:41:56.031028Z",
     "shell.execute_reply": "2024-01-10T19:41:56.030034Z"
    },
    "id": "BubdUEfDWuh3",
    "papermill": {
     "duration": 0.125526,
     "end_time": "2024-01-10T19:41:56.033507",
     "exception": false,
     "start_time": "2024-01-10T19:41:55.907981",
     "status": "completed"
    },
    "tags": []
   },
   "outputs": [],
   "source": [
    "from sklearn.neighbors import KNeighborsClassifier"
   ]
  },
  {
   "cell_type": "code",
   "execution_count": 25,
   "id": "befee513",
   "metadata": {
    "execution": {
     "iopub.execute_input": "2024-01-10T19:41:56.067825Z",
     "iopub.status.busy": "2024-01-10T19:41:56.067421Z",
     "iopub.status.idle": "2024-01-10T19:41:56.078172Z",
     "shell.execute_reply": "2024-01-10T19:41:56.077312Z"
    },
    "executionInfo": {
     "elapsed": 9,
     "status": "ok",
     "timestamp": 1681590211185,
     "user": {
      "displayName": "Gourab Mahato",
      "userId": "10976377852796720560"
     },
     "user_tz": -330
    },
    "id": "ObQmulNAkYGn",
    "outputId": "9c11956d-4417-4027-a6cd-d7645c96b9c0",
    "papermill": {
     "duration": 0.030605,
     "end_time": "2024-01-10T19:41:56.080241",
     "exception": false,
     "start_time": "2024-01-10T19:41:56.049636",
     "status": "completed"
    },
    "tags": []
   },
   "outputs": [
    {
     "data": {
      "text/html": [
       "<style>#sk-container-id-1 {color: black;background-color: white;}#sk-container-id-1 pre{padding: 0;}#sk-container-id-1 div.sk-toggleable {background-color: white;}#sk-container-id-1 label.sk-toggleable__label {cursor: pointer;display: block;width: 100%;margin-bottom: 0;padding: 0.3em;box-sizing: border-box;text-align: center;}#sk-container-id-1 label.sk-toggleable__label-arrow:before {content: \"▸\";float: left;margin-right: 0.25em;color: #696969;}#sk-container-id-1 label.sk-toggleable__label-arrow:hover:before {color: black;}#sk-container-id-1 div.sk-estimator:hover label.sk-toggleable__label-arrow:before {color: black;}#sk-container-id-1 div.sk-toggleable__content {max-height: 0;max-width: 0;overflow: hidden;text-align: left;background-color: #f0f8ff;}#sk-container-id-1 div.sk-toggleable__content pre {margin: 0.2em;color: black;border-radius: 0.25em;background-color: #f0f8ff;}#sk-container-id-1 input.sk-toggleable__control:checked~div.sk-toggleable__content {max-height: 200px;max-width: 100%;overflow: auto;}#sk-container-id-1 input.sk-toggleable__control:checked~label.sk-toggleable__label-arrow:before {content: \"▾\";}#sk-container-id-1 div.sk-estimator input.sk-toggleable__control:checked~label.sk-toggleable__label {background-color: #d4ebff;}#sk-container-id-1 div.sk-label input.sk-toggleable__control:checked~label.sk-toggleable__label {background-color: #d4ebff;}#sk-container-id-1 input.sk-hidden--visually {border: 0;clip: rect(1px 1px 1px 1px);clip: rect(1px, 1px, 1px, 1px);height: 1px;margin: -1px;overflow: hidden;padding: 0;position: absolute;width: 1px;}#sk-container-id-1 div.sk-estimator {font-family: monospace;background-color: #f0f8ff;border: 1px dotted black;border-radius: 0.25em;box-sizing: border-box;margin-bottom: 0.5em;}#sk-container-id-1 div.sk-estimator:hover {background-color: #d4ebff;}#sk-container-id-1 div.sk-parallel-item::after {content: \"\";width: 100%;border-bottom: 1px solid gray;flex-grow: 1;}#sk-container-id-1 div.sk-label:hover label.sk-toggleable__label {background-color: #d4ebff;}#sk-container-id-1 div.sk-serial::before {content: \"\";position: absolute;border-left: 1px solid gray;box-sizing: border-box;top: 0;bottom: 0;left: 50%;z-index: 0;}#sk-container-id-1 div.sk-serial {display: flex;flex-direction: column;align-items: center;background-color: white;padding-right: 0.2em;padding-left: 0.2em;position: relative;}#sk-container-id-1 div.sk-item {position: relative;z-index: 1;}#sk-container-id-1 div.sk-parallel {display: flex;align-items: stretch;justify-content: center;background-color: white;position: relative;}#sk-container-id-1 div.sk-item::before, #sk-container-id-1 div.sk-parallel-item::before {content: \"\";position: absolute;border-left: 1px solid gray;box-sizing: border-box;top: 0;bottom: 0;left: 50%;z-index: -1;}#sk-container-id-1 div.sk-parallel-item {display: flex;flex-direction: column;z-index: 1;position: relative;background-color: white;}#sk-container-id-1 div.sk-parallel-item:first-child::after {align-self: flex-end;width: 50%;}#sk-container-id-1 div.sk-parallel-item:last-child::after {align-self: flex-start;width: 50%;}#sk-container-id-1 div.sk-parallel-item:only-child::after {width: 0;}#sk-container-id-1 div.sk-dashed-wrapped {border: 1px dashed gray;margin: 0 0.4em 0.5em 0.4em;box-sizing: border-box;padding-bottom: 0.4em;background-color: white;}#sk-container-id-1 div.sk-label label {font-family: monospace;font-weight: bold;display: inline-block;line-height: 1.2em;}#sk-container-id-1 div.sk-label-container {text-align: center;}#sk-container-id-1 div.sk-container {/* jupyter's `normalize.less` sets `[hidden] { display: none; }` but bootstrap.min.css set `[hidden] { display: none !important; }` so we also need the `!important` here to be able to override the default hidden behavior on the sphinx rendered scikit-learn.org. See: https://github.com/scikit-learn/scikit-learn/issues/21755 */display: inline-block !important;position: relative;}#sk-container-id-1 div.sk-text-repr-fallback {display: none;}</style><div id=\"sk-container-id-1\" class=\"sk-top-container\"><div class=\"sk-text-repr-fallback\"><pre>KNeighborsClassifier()</pre><b>In a Jupyter environment, please rerun this cell to show the HTML representation or trust the notebook. <br />On GitHub, the HTML representation is unable to render, please try loading this page with nbviewer.org.</b></div><div class=\"sk-container\" hidden><div class=\"sk-item\"><div class=\"sk-estimator sk-toggleable\"><input class=\"sk-toggleable__control sk-hidden--visually\" id=\"sk-estimator-id-1\" type=\"checkbox\" checked><label for=\"sk-estimator-id-1\" class=\"sk-toggleable__label sk-toggleable__label-arrow\">KNeighborsClassifier</label><div class=\"sk-toggleable__content\"><pre>KNeighborsClassifier()</pre></div></div></div></div></div>"
      ],
      "text/plain": [
       "KNeighborsClassifier()"
      ]
     },
     "execution_count": 25,
     "metadata": {},
     "output_type": "execute_result"
    }
   ],
   "source": [
    "#n_neighbors is set to 5, it means that the algorithm will consider the 5 nearest neighbours of a data point when making a prediction.\n",
    "knn_model = KNeighborsClassifier(n_neighbors=5) \n",
    "knn_model.fit(X_train, Y_train_num)"
   ]
  },
  {
   "cell_type": "code",
   "execution_count": 26,
   "id": "0c8d1099",
   "metadata": {
    "execution": {
     "iopub.execute_input": "2024-01-10T19:41:56.114716Z",
     "iopub.status.busy": "2024-01-10T19:41:56.114031Z",
     "iopub.status.idle": "2024-01-10T19:41:56.190588Z",
     "shell.execute_reply": "2024-01-10T19:41:56.189588Z"
    },
    "executionInfo": {
     "elapsed": 8,
     "status": "ok",
     "timestamp": 1681590213632,
     "user": {
      "displayName": "Gourab Mahato",
      "userId": "10976377852796720560"
     },
     "user_tz": -330
    },
    "id": "RYtmQ-vlknPi",
    "outputId": "04267f8d-087d-4385-8122-c0c2cae5fe61",
    "papermill": {
     "duration": 0.096755,
     "end_time": "2024-01-10T19:41:56.193133",
     "exception": false,
     "start_time": "2024-01-10T19:41:56.096378",
     "status": "completed"
    },
    "tags": []
   },
   "outputs": [
    {
     "name": "stdout",
     "output_type": "stream",
     "text": [
      "              precision    recall  f1-score   support\n",
      "\n",
      "           0       0.99      0.96      0.97        69\n",
      "           1       0.94      0.98      0.96        45\n",
      "\n",
      "    accuracy                           0.96       114\n",
      "   macro avg       0.96      0.97      0.96       114\n",
      "weighted avg       0.97      0.96      0.97       114\n",
      "\n"
     ]
    }
   ],
   "source": [
    "knn_pred = knn_model.predict(X_test)\n",
    "print(classification_report(Y_test_num, Y_pred))"
   ]
  },
  {
   "cell_type": "code",
   "execution_count": 27,
   "id": "e6c0b36e",
   "metadata": {
    "execution": {
     "iopub.execute_input": "2024-01-10T19:41:56.229851Z",
     "iopub.status.busy": "2024-01-10T19:41:56.229497Z",
     "iopub.status.idle": "2024-01-10T19:41:56.280958Z",
     "shell.execute_reply": "2024-01-10T19:41:56.279903Z"
    },
    "papermill": {
     "duration": 0.071791,
     "end_time": "2024-01-10T19:41:56.283423",
     "exception": false,
     "start_time": "2024-01-10T19:41:56.211632",
     "status": "completed"
    },
    "tags": []
   },
   "outputs": [
    {
     "name": "stdout",
     "output_type": "stream",
     "text": [
      "Confusion Matrix:\n",
      " [[69  0]\n",
      " [ 3 42]]\n",
      "              precision    recall  f1-score   support\n",
      "\n",
      "           0       0.96      1.00      0.98        69\n",
      "           1       1.00      0.93      0.97        45\n",
      "\n",
      "    accuracy                           0.97       114\n",
      "   macro avg       0.98      0.97      0.97       114\n",
      "weighted avg       0.97      0.97      0.97       114\n",
      "\n"
     ]
    }
   ],
   "source": [
    "df_combined = pd.DataFrame({\n",
    "    'logreg_prediction': X_test_prediction,\n",
    "    'knn_prediction': knn_pred,\n",
    "    'svm_prediction': Y_pred\n",
    "})\n",
    "\n",
    "# Use mode to get the majority vote\n",
    "df_combined['final_prediction'] = df_combined.mode(axis=1)[0]\n",
    "\n",
    "# Create confusion matrix\n",
    "conf_matrix = confusion_matrix(Y_test_num, df_combined['final_prediction'])\n",
    "print(\"Confusion Matrix:\\n\", conf_matrix)\n",
    "\n",
    "print(classification_report(Y_test_num,df_combined['final_prediction'] ))"
   ]
  },
  {
   "cell_type": "markdown",
   "id": "7436d38a",
   "metadata": {
    "id": "HXQw5i8QHZiL",
    "papermill": {
     "duration": 0.015721,
     "end_time": "2024-01-10T19:41:56.316996",
     "exception": false,
     "start_time": "2024-01-10T19:41:56.301275",
     "status": "completed"
    },
    "tags": []
   },
   "source": [
    "## **Building a Predictive System**"
   ]
  },
  {
   "cell_type": "code",
   "execution_count": null,
   "id": "6b95c77b",
   "metadata": {
    "papermill": {
     "duration": 0.015751,
     "end_time": "2024-01-10T19:41:56.348885",
     "exception": false,
     "start_time": "2024-01-10T19:41:56.333134",
     "status": "completed"
    },
    "tags": []
   },
   "outputs": [],
   "source": [
    "\n",
    "    "
   ]
  },
  {
   "cell_type": "code",
   "execution_count": 28,
   "id": "ef35f671",
   "metadata": {
    "execution": {
     "iopub.execute_input": "2024-01-10T19:41:56.382020Z",
     "iopub.status.busy": "2024-01-10T19:41:56.381667Z",
     "iopub.status.idle": "2024-01-10T19:41:56.394817Z",
     "shell.execute_reply": "2024-01-10T19:41:56.393701Z"
    },
    "executionInfo": {
     "elapsed": 468,
     "status": "ok",
     "timestamp": 1681589191495,
     "user": {
      "displayName": "Gourab Mahato",
      "userId": "10976377852796720560"
     },
     "user_tz": -330
    },
    "id": "ND5eeiDUHqMl",
    "outputId": "3167a664-9870-4e96-e829-70b06697385f",
    "papermill": {
     "duration": 0.032298,
     "end_time": "2024-01-10T19:41:56.396938",
     "exception": false,
     "start_time": "2024-01-10T19:41:56.364640",
     "status": "completed"
    },
    "tags": []
   },
   "outputs": [
    {
     "name": "stdout",
     "output_type": "stream",
     "text": [
      "[1.]\n",
      "The case is Malignant!\n"
     ]
    }
   ],
   "source": [
    "input_data= (13.08,15.71,85.63,520,0.1075,0.127,0.04568,0.0311,0.1967,0.06811,0.1852,0.7477,1.383,14.67,0.004097,0.01898,0.01698,0.00649,0.01678,0.002425,14.5,20.49,96.09,630.5,0.1312,0.2776,0.189,0.07283,0.3184,0.08183)\n",
    "#changing this data to a numpy array\n",
    "input_arr= np.asarray(input_data)\n",
    "#reshaping it into 2D array for taking an ML model input\n",
    "reshape_arr= input_arr.reshape(1,-1)\n",
    "Pred_01=lr.predict(reshape_arr)\n",
    "Pred_02=svm_model.predict(reshape_arr)\n",
    "Pred_03=knn_model.predict(reshape_arr)\n",
    "final_prediction=(Pred_01 + Pred_02 + Pred_03)/3\n",
    "\n",
    "print(final_prediction)\n",
    "if(final_prediction<0.5):\n",
    "  print(\"The case is Benign!\")\n",
    "else:\n",
    "   print(\"The case is Malignant!\")\n"
   ]
  }
 ],
 "metadata": {
  "colab": {
   "authorship_tag": "ABX9TyNarE/ToEItvh9cQFqvm1RM",
   "mount_file_id": "1VorssVaF939bm9_2tvqlHOa96-pa7NdM",
   "provenance": []
  },
  "kaggle": {
   "accelerator": "nvidiaTeslaT4",
   "dataSources": [
    {
     "datasetId": 2496702,
     "sourceId": 4236300,
     "sourceType": "datasetVersion"
    }
   ],
   "dockerImageVersionId": 30626,
   "isGpuEnabled": true,
   "isInternetEnabled": true,
   "language": "python",
   "sourceType": "notebook"
  },
  "kernelspec": {
   "display_name": "Python 3",
   "language": "python",
   "name": "python3"
  },
  "language_info": {
   "codemirror_mode": {
    "name": "ipython",
    "version": 3
   },
   "file_extension": ".py",
   "mimetype": "text/x-python",
   "name": "python",
   "nbconvert_exporter": "python",
   "pygments_lexer": "ipython3",
   "version": "3.10.12"
  },
  "papermill": {
   "default_parameters": {},
   "duration": 11.482882,
   "end_time": "2024-01-10T19:41:56.933362",
   "environment_variables": {},
   "exception": null,
   "input_path": "__notebook__.ipynb",
   "output_path": "__notebook__.ipynb",
   "parameters": {},
   "start_time": "2024-01-10T19:41:45.450480",
   "version": "2.4.0"
  }
 },
 "nbformat": 4,
 "nbformat_minor": 5
}
